{
 "cells": [
  {
   "cell_type": "markdown",
   "metadata": {},
   "source": [
    "# Data Science Wizards!\n",
    "\n",
    "## Instructors: Shervin Manzuri, Levin Noronha, Morteza Alipour"
   ]
  },
  {
   "cell_type": "markdown",
   "metadata": {},
   "source": [
    "# Introduction! \n",
    "\n",
    "This is going to be your first venture into **DATA SCIENCE**! Data science is the cool job of doing magic with large amounts of information most people don't understand!\n",
    "\n",
    "A data scientist is basically a **wizard**! These wizards will get certain ingredients in the forms of **RAW Data** and they will make them into an **easily digestable data potion**! Then using **magic** they will predict the future! However before you become magicians you will first need to improve your **potion-making** skill!\n",
    "\n",
    "## What potion we are making?\n",
    "\n",
    "We want to look at **DC** and **Marvel** comic characters and do data science wizardry with them! So our ingredients will be their data.\n",
    "\n",
    "What does a good cook usually do?"
   ]
  },
  {
   "cell_type": "markdown",
   "metadata": {},
   "source": [
    "## 1. Fetching the Ingredients\n",
    "\n",
    "As a data scientist wizard, you first need to gather your **necessary ingredients**. Wizards use herbs and water to make potions! But data scientist wizards use... wait for it... **DATA**! Just as a good potion needs quality herbs, good data scientists need to carefully choose their data. If they use bad data, they might create **poisonous potions**! We really don't want poison now do we? \n",
    "\n",
    "Now the question is...\n",
    "\n",
    "### 1.1. How do we choose the data?\n",
    "\n",
    "The first rule of thumb for wizards when picking quality herbs is they must be **clean**, **fresh** and without **pests**! \n",
    "\n",
    "And it's exactly the same case for data scientist wizards. Because we *are* wizards.\n",
    "\n",
    "As a data scientist wizard, your first job will be to **pick and clean your data**! LET'S GO!"
   ]
  },
  {
   "cell_type": "markdown",
   "metadata": {},
   "source": [
    "#### Importing\n",
    "\n",
    "The first step when writing Python magic is importing your tools! We will do this for you. The tools we will import are two friendly neighborhood sidekicks named *pandas*, *numpy* and their projector device called *matplotlib*. We are calling upon *pandas* and *numpy* to help us manage our data."
   ]
  },
  {
   "cell_type": "code",
   "execution_count": null,
   "metadata": {},
   "outputs": [],
   "source": [
    "import pandas\n",
    "import numpy\n",
    "import matplotlib.pyplot as plot\n",
    "\n",
    "numpy.warnings.filterwarnings('ignore')\n"
   ]
  },
  {
   "cell_type": "markdown",
   "metadata": {},
   "source": [
    "#### Fetching our Ingredients\n",
    "\n",
    "Our sidekick `pandas` has a power named `read_csv`. We're going to use this power to read in our data. \n",
    "\n",
    "However, in order for read_csv to work, we need to tell it the name of our data. To make one of our sidekicks use their powers, we have to write code in the following way: `sidekick_name.sidekick_power(extra_information)`. \n",
    "\n",
    "For example, to tell pandas to use `read_csv`, we have to say `pandas.read_csv(\"super_hero_powers.csv\")`. \n",
    "\n",
    "**Replace `?` below with the file names of our data sets. Then, run the code!**"
   ]
  },
  {
   "cell_type": "code",
   "execution_count": null,
   "metadata": {},
   "outputs": [],
   "source": [
    "file_with_hero_info = ?\n",
    "file_with_powers_info = ?"
   ]
  },
  {
   "cell_type": "markdown",
   "metadata": {},
   "source": [
    "**In the box below, we have already written the code for reading in our data. Go ahead and try to run it!**"
   ]
  },
  {
   "cell_type": "code",
   "execution_count": null,
   "metadata": {},
   "outputs": [],
   "source": [
    "# Our First ingredient!\n",
    "heroes_info = pandas.read_csv(file_with_hero_info, index_col = 0)\n",
    "# Our second ingredient!\n",
    "superhero_powers = pandas.read_csv(file_with_powers_info)\n"
   ]
  },
  {
   "cell_type": "markdown",
   "metadata": {},
   "source": [
    "#### Now that we have our ingredients...\n",
    "\n",
    "We need to see how much of each ingredient we have. Our ingredients come in packages and they can be of different types, shapes, lengths, *smells* or even tastes.\n",
    "\n",
    "To explore our data ingredients, we can call `.head(?)` on them!\n",
    "\n",
    "#### Let's ask `pandas` to show us 5 pieces from our data about **superhero powers**. In the box below, replace `?` with the number `5`:"
   ]
  },
  {
   "cell_type": "code",
   "execution_count": null,
   "metadata": {},
   "outputs": [],
   "source": [
    "superhero_powers.head(?)"
   ]
  },
  {
   "cell_type": "markdown",
   "metadata": {},
   "source": [
    "#### Let's ask `pandas` to show us `6` pieces of our second ingredient, **superhero info**:"
   ]
  },
  {
   "cell_type": "code",
   "execution_count": null,
   "metadata": {},
   "outputs": [],
   "source": [
    "heroes_info.head(?)"
   ]
  },
  {
   "cell_type": "markdown",
   "metadata": {},
   "source": [
    "## 2. Cleaning our data\n",
    "\n",
    "Now that we have seen what our data look like, we need to clean them up! Now when we wizards clean their potion ingredients, they look for dirty parts, stale parts or parts that don't make sense (we don't want to put nails in our soup!).\n",
    "\n",
    "The same goes for **data cleaning**. When we want to clean our data ingredients, we will look for:\n",
    "\n",
    "    1. Data rows that don't make sense.\n",
    "    2. Data rows that look wrong, but otherwise we can use them.\n",
    "    3. Data we don't think we will need.\n",
    "    \n",
    "Now looking at the tables above, how do we decide which ones don't make sense? Which ones do we need, but need to change how they look? and which ones we don't need?"
   ]
  },
  {
   "cell_type": "markdown",
   "metadata": {},
   "source": [
    "### 2.1 Don't look ahead! We need your expertise first!\n",
    "\n",
    "## 2.1.1 You haven't been looking ahead now have you?\n",
    "\n",
    "\n",
    "\n",
    "\n"
   ]
  },
  {
   "cell_type": "markdown",
   "metadata": {},
   "source": [
    "### 2.2 Now that you have some insight, let's see what needs to be cleaned!\n",
    "\n",
    "To clean data, data scientists often ask themselves the following questions. Read the following questions and think about how you would answer them.\n",
    "\n",
    "    1. Do you think a height of -99 or weight of -99 makes sense?\n",
    "\n",
    "Let's ask our friend `numpy` to mark these values as nonsense or `numpy.nan`."
   ]
  },
  {
   "cell_type": "markdown",
   "metadata": {},
   "source": [
    "#### Replace `?` below with the name of the column in our data that has information about a superhero's height."
   ]
  },
  {
   "cell_type": "code",
   "execution_count": null,
   "metadata": {},
   "outputs": [],
   "source": [
    "column_with_height_info = ?"
   ]
  },
  {
   "cell_type": "markdown",
   "metadata": {},
   "source": [
    "#### Replace `?` below with the name of the column in our data that has information about a superhero's weight."
   ]
  },
  {
   "cell_type": "code",
   "execution_count": null,
   "metadata": {},
   "outputs": [],
   "source": [
    "column_with_weight_info = ?"
   ]
  },
  {
   "cell_type": "markdown",
   "metadata": {},
   "source": [
    "The code we have written below will take the information you filled above and replace all nonsense value with `numpy.nan`.\n",
    "\n",
    "**Go ahead and run the code below!**"
   ]
  },
  {
   "cell_type": "code",
   "execution_count": null,
   "metadata": {},
   "outputs": [],
   "source": [
    "# Changing -99 height to NA\n",
    "heroes_info.loc[heroes_info[column_with_height_info] < 0, column_with_height_info] = numpy.nan\n",
    "heroes_info.loc[heroes_info[column_with_weight_info] < 0, column_with_weight_info] = numpy.nan\n"
   ]
  },
  {
   "cell_type": "markdown",
   "metadata": {},
   "source": [
    "And now we want to discard some information!\n",
    "\n",
    "    2. We only want to compare Marvel to DC! So we need to get rid of all heroes that don't belong to them.\n",
    "\n",
    "If you look at the data files again, you will see that the \"Publisher\" column contains information about whether a superhero is from Marvel or DC. \n",
    "\n",
    "**Replace `?` in the box below with the name of the column that tell you whether a superhero is Marvel or DC:**"
   ]
  },
  {
   "cell_type": "code",
   "execution_count": null,
   "metadata": {},
   "outputs": [],
   "source": [
    "name_of_column = ?"
   ]
  },
  {
   "cell_type": "code",
   "execution_count": null,
   "metadata": {},
   "outputs": [],
   "source": [
    "# Ignore these two lines\n",
    "superhero_powers = superhero_powers.rename(columns={'hero_names':'name'})\n",
    "merged_data = pandas.merge(heroes_info, superhero_powers, on='name')"
   ]
  },
  {
   "cell_type": "markdown",
   "metadata": {},
   "source": [
    "**Replace `?` below with the name of DC as it appears in the \"Publisher\" column**"
   ]
  },
  {
   "cell_type": "code",
   "execution_count": null,
   "metadata": {},
   "outputs": [],
   "source": [
    "# Create DC-only data\n",
    "dc_name = ?\n",
    "dc_data = merged_data.drop(merged_data.loc[(merged_data[name_of_column] != dc_name)].index)"
   ]
  },
  {
   "cell_type": "markdown",
   "metadata": {},
   "source": [
    "**Replace `?` below with the name of Marvel as it appears in the \"Publisher\" column**"
   ]
  },
  {
   "cell_type": "code",
   "execution_count": null,
   "metadata": {},
   "outputs": [],
   "source": [
    "#Create Marvel-only data\n",
    "marvel_name = ?\n",
    "marvel_data = merged_data.drop(merged_data.loc[(merged_data[name_of_column] != marvel_name)].index)"
   ]
  },
  {
   "cell_type": "markdown",
   "metadata": {},
   "source": [
    "**Run the code below to combine everything we've done so far!**"
   ]
  },
  {
   "cell_type": "code",
   "execution_count": null,
   "metadata": {},
   "outputs": [],
   "source": [
    "# Combine DC-only and Marvel-only data\n",
    "mdc_data = pandas.concat([dc_data, marvel_data], axis=0).reset_index(drop = True)"
   ]
  },
  {
   "cell_type": "markdown",
   "metadata": {},
   "source": [
    "#### Now let's look at our cleaned data. Run the code below!"
   ]
  },
  {
   "cell_type": "code",
   "execution_count": null,
   "metadata": {},
   "outputs": [],
   "source": [
    "display(mdc_data)"
   ]
  },
  {
   "cell_type": "markdown",
   "metadata": {},
   "source": [
    "## 3. Let's Analyse the Data"
   ]
  },
  {
   "cell_type": "markdown",
   "metadata": {},
   "source": [
    "Now that we have our data cleaned up, we can start playing around with it. As a data scientist, you have to look at data in different way to gain interesting insights.\n",
    "\n",
    "### 3.1. Distribution Analysis\n",
    "\n",
    "Analyzing data distribution is a very important part of a data scientist's job. The **distribution of a large amount of data shows you a list of all the possible values within the data and the number of times that these values occur**. The number of times a value occurs is called **frequency**.\n",
    "\n",
    "However, looking at numbers can be very boring. Let's look at some nice, cool graphs instead!\n",
    "\n",
    "The first type of graph that we are going to draw is called a histogram. But what exactly is a histogram?\n",
    "A **histogram** is a graph that is made up of long, skinny rectangles. Each rectangle represents a value and the height of each rectangle is determined by the frequency of that value."
   ]
  },
  {
   "cell_type": "markdown",
   "metadata": {},
   "source": [
    "#### Let's draw a histogram that shows us how height is distributed between our male and female superheroes."
   ]
  },
  {
   "cell_type": "markdown",
   "metadata": {},
   "source": [
    "**Replace the `?` below with the name of the column that contains information about a superhero's gender.**"
   ]
  },
  {
   "cell_type": "code",
   "execution_count": null,
   "metadata": {},
   "outputs": [],
   "source": [
    "name_of_column_with_gender_info = ?"
   ]
  },
  {
   "cell_type": "markdown",
   "metadata": {},
   "source": [
    "**Replace the `?` below with the name of the column that contains information about a superhero's height.**"
   ]
  },
  {
   "cell_type": "code",
   "execution_count": null,
   "metadata": {},
   "outputs": [],
   "source": [
    "name_of_column_with_height_info = ?"
   ]
  },
  {
   "cell_type": "code",
   "execution_count": null,
   "metadata": {},
   "outputs": [],
   "source": [
    "first_hist_input = mdc_data.loc[(mdc_data[ name_of_column_with_gender_info ] == 'Male'), name_of_column_with_height_info]\n",
    "second_hist_input = mdc_data.loc[(mdc_data[ name_of_column_with_gender_info ] == 'Female'), name_of_column_with_height_info]\n"
   ]
  },
  {
   "cell_type": "markdown",
   "metadata": {},
   "source": [
    "Let's go ahead and draw the histogram!"
   ]
  },
  {
   "cell_type": "code",
   "execution_count": null,
   "metadata": {},
   "outputs": [],
   "source": [
    "first_histogram_buckets = 300\n",
    "second_histogram_buckets = 100\n",
    "\n",
    "plot.figure(figsize=(5,3)) # Change the numbers 5 and 3 to change the size of the histogram!\n",
    "\n",
    "plot.hist(first_hist_input, first_histogram_buckets, alpha=0.5, label='Male')\n",
    "plot.hist(second_hist_input, second_histogram_buckets, alpha=0.5, label='Female')\n",
    "\n",
    "plot.legend(loc='upper right')\n",
    "plot.title('Height Distribution of heroes!')\n",
    "plot.xlabel('Height')\n",
    "plot.ylabel('Frequency')\n",
    "plot.grid(axis='y', alpha=0.75)\n",
    "\n",
    "plot.xlim(55,250) # Change the numbers 55 and 250 to see what happens!"
   ]
  },
  {
   "cell_type": "markdown",
   "metadata": {},
   "source": [
    "### 3.2. Frequency Analysis\n",
    "\n",
    "Now we're going to look at our superheroes and see which superhero powers are the most common! \n",
    "\n",
    "#### Which superhero powers do you think will be the most common???"
   ]
  },
  {
   "cell_type": "markdown",
   "metadata": {},
   "source": [
    "**Run the code below:**"
   ]
  },
  {
   "cell_type": "code",
   "execution_count": null,
   "metadata": {},
   "outputs": [],
   "source": [
    "from collections import Counter"
   ]
  },
  {
   "cell_type": "markdown",
   "metadata": {},
   "source": [
    "**Run the code below to gather information about all the superpowers in the DC universe!**"
   ]
  },
  {
   "cell_type": "code",
   "execution_count": null,
   "metadata": {},
   "outputs": [],
   "source": [
    "pf_dic_dc = {}\n",
    "for column in dc_data.columns[10:]:\n",
    "    pf_dic_dc[column] = sum(dc_data[column])"
   ]
  },
  {
   "cell_type": "markdown",
   "metadata": {},
   "source": [
    "**Run the code below to gather information about all the superpowers in the Marvel universe!**"
   ]
  },
  {
   "cell_type": "code",
   "execution_count": null,
   "metadata": {},
   "outputs": [],
   "source": [
    "pf_dic_mar = {}\n",
    "for column in marvel_data.columns[10:]:\n",
    "    pf_dic_mar[column] = sum(marvel_data[column])"
   ]
  },
  {
   "cell_type": "markdown",
   "metadata": {},
   "source": [
    "We have a lot of superhero powers listed in our data! To keep things simple, we are only going to look at the 20 most common superpowers.\n",
    "\n",
    "**Replace `?` below with `20` to only keep the 20 most common superpowers in both universes.**"
   ]
  },
  {
   "cell_type": "code",
   "execution_count": null,
   "metadata": {},
   "outputs": [],
   "source": [
    "max_twenty_mar = dict(Counter(pf_dic_mar).most_common( ? ))\n",
    "max_twenty_dc = dict(Counter(pf_dic_dc).most_common( ? ))"
   ]
  },
  {
   "cell_type": "markdown",
   "metadata": {},
   "source": [
    "#### Now that we have our top 20 most common super powers for each universe, we will combine them into one table!\n",
    "**Run the code below:**"
   ]
  },
  {
   "cell_type": "code",
   "execution_count": null,
   "metadata": {},
   "outputs": [],
   "source": [
    "max20_mar_data = pandas.DataFrame({'Power':list(max_twenty_mar.keys()),'Frequency':list(max_twenty_mar.values()), 'Publisher':['Marvel']*20})\n",
    "max20_dc_data = pandas.DataFrame({'Power':list(max_twenty_dc.keys()),'Frequency':list(max_twenty_dc.values()), 'Publisher':['DC']*20})\n",
    "\n",
    "max_powers = pandas.concat([max20_dc_data, max20_mar_data], axis = 0)\n"
   ]
  },
  {
   "cell_type": "markdown",
   "metadata": {},
   "source": [
    "Just like a histogram, a horizontal bar graph is also made up of long, skinny rectangles and in our graph the length of each rectangle will be determined by how frequently a superpower is found.\n",
    "\n",
    "Before we draw our graph, let's decide what colours we want our DC and Marvel bars to have.\n",
    "\n",
    "**Replace the `?` below with any colours of your choice and run the code.**"
   ]
  },
  {
   "cell_type": "code",
   "execution_count": null,
   "metadata": {},
   "outputs": [],
   "source": [
    "DC_color = ?\n",
    "Marvel_color = ?"
   ]
  },
  {
   "cell_type": "markdown",
   "metadata": {},
   "source": [
    "#### Now let's run the code below to draw a horizontal bar graph! "
   ]
  },
  {
   "cell_type": "code",
   "execution_count": null,
   "metadata": {},
   "outputs": [],
   "source": [
    "colors = [DC_color, Marvel_color]\n",
    "pivot_df = pandas.pivot_table(max_powers,index='Power', columns='Publisher', values='Frequency', fill_value=0)\n",
    "pivot_df = pivot_df.reindex(pivot_df.sort_values(by='DC', ascending=True).index)\n",
    "pivot_df = pivot_df.reindex(pivot_df.sort_values(by='Marvel', ascending=True).index)\n",
    "\n",
    "# Try changing the numbers 7 and 5 below to make the histogram even bigger!\n",
    "pivot_df.plot.barh(stacked=True, color=colors, figsize=(7,5))"
   ]
  },
  {
   "cell_type": "markdown",
   "metadata": {},
   "source": [
    "### 3.3. Bad Guy Analysis\n",
    "\n",
    "Analyzing frequency is great, but what if we want to know what percentage of a comic book universe posesses a certain characterisitic? \n",
    "\n",
    "Today, we're going to look at each universe and analyze how many superheroes are good, neutral, and bad! Which universe do you think has more bad heroes compared to good heroes?"
   ]
  },
  {
   "cell_type": "markdown",
   "metadata": {},
   "source": [
    "#### How do we know who's good or bad?\n",
    "Do we need to look at each superhero and read all their comics in order to judge whether their character is good or bad? Well, we could do that but that would take a very long time! And as data scientists, why should we waste time doing something over and over again when instead, we could perform some data science magic on the vast amounts of data we already have available. So let's go ahead and look through our superhero data to examine which side they align with - good or evil!"
   ]
  },
  {
   "cell_type": "markdown",
   "metadata": {},
   "source": [
    "**Replace the question mark below with the name of the column that contains information about whether a superhero is \"Good\" or \"Bad\"**"
   ]
  },
  {
   "cell_type": "code",
   "execution_count": null,
   "metadata": {},
   "outputs": [],
   "source": [
    "alignment_column_name = ?"
   ]
  },
  {
   "cell_type": "markdown",
   "metadata": {},
   "source": [
    "**Run the code below to prepare your data for some graph drawing**"
   ]
  },
  {
   "cell_type": "code",
   "execution_count": null,
   "metadata": {},
   "outputs": [],
   "source": [
    "# Data\n",
    "r = [0,1]\n",
    "# Get Marvel data and group by \"Alignment\"\n",
    "marvel_alignment = mdc_data.loc[(mdc_data['Publisher'] == 'Marvel Comics'),alignment_column_name].value_counts()\n",
    "marvel_alignment_dict = marvel_alignment.to_dict()\n",
    "# Get DC data and group by \"Alignment\"\n",
    "dc_alignment = mdc_data.loc[(mdc_data['Publisher'] == 'DC Comics'),alignment_column_name].value_counts()\n",
    "dc_alignment_dict = dc_alignment.to_dict()\n",
    "combined_alignment_dict = {}\n",
    "# Combine Marvel and DC data\n",
    "if marvel_alignment_dict.keys() == dc_alignment_dict.keys():\n",
    "    for key in marvel_alignment_dict:\n",
    "        combined_alignment_dict[key] = [marvel_alignment_dict[key], dc_alignment_dict[key]]\n",
    "df = pandas.DataFrame(combined_alignment_dict, index=['Marvel', 'DC'])\n",
    "\n",
    "# With the superhero alignment information in our hands, let's go forth and turn our data into percentages.\n",
    "totals = [i+j+k for i,j,k in zip(df['good'], df['bad'], df['neutral'])]\n",
    "goodBars = [i / j for i,j in zip(df['good'], totals)]\n",
    "neutralBars = [i / j for i,j in zip(df['neutral'], totals)]\n",
    "badBars = [i / j for i,j in zip(df['bad'], totals)]"
   ]
  },
  {
   "cell_type": "markdown",
   "metadata": {},
   "source": [
    "#### Run the code below to draw that graph!"
   ]
  },
  {
   "cell_type": "code",
   "execution_count": null,
   "metadata": {},
   "outputs": [],
   "source": [
    "plot.figure(figsize=(2,3)) # Try changing the number 8 and 12 to make the graph bigger\n",
    "\n",
    "good_color = '#99ff66' # Try changing #99ff66 to anything else such as 'red', 'blue', 'green', or etc.\n",
    "neutral_color = '#3399ff' # Try changing #3399ff to anything else such as 'red', 'blue', 'green', or etc.\n",
    "bad_color = '#ff5050' # Try changing #ff5050 to anything else such as 'red', 'blue', 'green', or etc.\n",
    "\n",
    "# plot\n",
    "barWidth = 0.85\n",
    "names = ('Marvel','DC') # Changing this changes the names of the bars\n",
    "# Create good bars\n",
    "plot.bar(r, goodBars, color=good_color, width=barWidth)\n",
    "# Create neutral bars\n",
    "plot.bar(r, neutralBars, bottom=goodBars, color=neutral_color, width=barWidth)\n",
    "# Create bad bars\n",
    "plot.bar(r, badBars, bottom=[i+j for i,j in zip(goodBars, neutralBars)], color=bad_color, width=barWidth)\n",
    " \n",
    "# Custom x and y axis\n",
    "plot.xticks(r, names)\n",
    "plot.xlabel(\"Universe\")\n",
    "plot.ylabel('Percentage')\n",
    " \n",
    "import matplotlib.patches as mpatches\n",
    "\n",
    "# Legend\n",
    "good_patch = mpatches.Patch(color=good_color, label='Good')\n",
    "neutral_path = mpatches.Patch(color=neutral_color, label='Neutral')\n",
    "red_patch = mpatches.Patch(color=bad_color, label='Bad')\n",
    "plot.legend(handles=[red_patch, neutral_path, good_patch],bbox_to_anchor=(1.05, 1), loc=2, borderaxespad=0.)\n",
    "\n",
    "# Title\n",
    "plot.title('Superhero Alignment by Universe')\n",
    "\n",
    "# Show graphic\n",
    "plot.show()"
   ]
  }
 ],
 "metadata": {
  "kernelspec": {
   "display_name": "Python 3",
   "language": "python",
   "name": "python3"
  },
  "language_info": {
   "codemirror_mode": {
    "name": "ipython",
    "version": 3
   },
   "file_extension": ".py",
   "mimetype": "text/x-python",
   "name": "python",
   "nbconvert_exporter": "python",
   "pygments_lexer": "ipython3",
   "version": "3.7.3"
  }
 },
 "nbformat": 4,
 "nbformat_minor": 2
}
